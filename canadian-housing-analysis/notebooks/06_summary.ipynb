{
 "cells": [
  {
   "cell_type": "markdown",
   "metadata": {},
   "source": [
    "# 🏠 Canadian Housing Market Analysis Report\n",
    "\n",
    "This notebook summarizes the full data science pipeline for analyzing and forecasting Canadian housing prices using scraped articles, extracted price mentions, and a Prophet time-series forecast.\n"
   ]
  },
  {
   "cell_type": "markdown",
   "metadata": {},
   "source": [
    "## 📌 Project Steps\n",
    "1. Web scraping of articles (BetterDwelling)\n",
    "2. Cleaning article content\n",
    "3. Extracting price mentions with regex\n",
    "4. Normalizing and filtering values (200k–2M range)\n",
    "5. Simulating monthly timestamps\n",
    "6. Forecasting with Prophet (2023–2033)\n",
    "7. Visualization of trends and confidence intervals"
   ]
  },
  {
   "cell_type": "code",
   "execution_count": null,
   "metadata": {},
   "outputs": [],
   "source": [
    "import pandas as pd\n",
    "import matplotlib.pyplot as plt\n",
    "import matplotlib.dates as mdates\n",
    "\n",
    "# Load filtered forecast\n",
    "forecast = pd.read_csv(\"../data/processed/forecast_2023_2033.csv\")"
   ]
  },
  {
   "cell_type": "markdown",
   "metadata": {},
   "source": [
    "## 📈 Forecast Visualization (2023–2033)"
   ]
  },
  {
   "cell_type": "code",
   "execution_count": null,
   "metadata": {},
   "outputs": [],
   "source": [
    "# Plot forecast with confidence interval\n",
    "fig, ax = plt.subplots(figsize=(12, 6))\n",
    "\n",
    "ax.fill_between(\n",
    "    pd.to_datetime(forecast[\"ds\"]),\n",
    "    forecast[\"yhat_lower\"],\n",
    "    forecast[\"yhat_upper\"],\n",
    "    color=\"skyblue\",\n",
    "    alpha=0.5,\n",
    "    label=\"Confidence Interval\",\n",
    ")\n",
    "\n",
    "ax.plot(\n",
    "    pd.to_datetime(forecast[\"ds\"]), forecast[\"yhat\"], color=\"blue\", label=\"Forecast\"\n",
    ")\n",
    "ax.set_title(\"Canadian Housing Price Forecast (2023–2033)\", fontsize=16)\n",
    "ax.set_xlabel(\"Year\")\n",
    "ax.set_ylabel(\"Price (CAD $)\")\n",
    "\n",
    "ax.xaxis.set_major_locator(mdates.YearLocator(1))\n",
    "ax.xaxis.set_major_formatter(mdates.DateFormatter(\"%Y\"))\n",
    "ax.grid(True)\n",
    "ax.legend()\n",
    "plt.tight_layout()\n",
    "plt.show()"
   ]
  },
  {
   "cell_type": "markdown",
   "metadata": {},
   "source": [
    "## ✅ Key Observations\n",
    "- The model predicts moderate fluctuations in prices from 2023–2033\n",
    "- The forecast shows a wide confidence interval after ~2029, indicating uncertainty\n",
    "- Actual scraped prices covered a reasonable range (200k–2M)\n",
    "- A cleaner dataset with real timestamps could improve accuracy"
   ]
  }
 ],
 "metadata": {
  "kernelspec": {
   "display_name": "Python 3",
   "language": "python",
   "name": "python3"
  },
  "language_info": {
   "name": "python",
   "version": "3.12"
  }
 },
 "nbformat": 4,
 "nbformat_minor": 2
}