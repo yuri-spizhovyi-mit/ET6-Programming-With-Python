{
 "cells": [
  {
   "cell_type": "markdown",
   "metadata": {},
   "source": [
    "# 📊 Step 3: Exploratory Data Analysis (EDA)\n",
    "Explore word frequency, sentiment, and patterns in cleaned housing articles."
   ]
  },
  {
   "cell_type": "code",
   "execution_count": null,
   "metadata": {},
   "outputs": [],
   "source": [
    "import pandas as pd\n",
    "import matplotlib.pyplot as plt\n",
    "from collections import Counter\n",
    "from wordcloud import WordCloud\n",
    "from textblob import TextBlob\n",
    "import seaborn as sns\n",
    "import re\n",
    "\n",
    "# Load cleaned data\n",
    "df = pd.read_csv(\"../data/processed/cleaned_articles.csv\")"
   ]
  },
  {
   "cell_type": "markdown",
   "metadata": {},
   "source": [
    "## 🔠 Word Frequency (Top 30 Words)"
   ]
  },
  {
   "cell_type": "code",
   "execution_count": null,
   "metadata": {},
   "outputs": [],
   "source": [
    "# Combine all content\n",
    "text = \" \".join(df[\"cleaned_content\"].dropna().tolist()).lower()\n",
    "text = re.sub(r\"[^a-zA-Z\\s]\", \"\", text)\n",
    "\n",
    "# Tokenize and count\n",
    "words = text.split()\n",
    "word_freq = Counter(words)\n",
    "common_words = word_freq.most_common(30)\n",
    "\n",
    "# Plot\n",
    "plt.figure(figsize=(12, 6))\n",
    "sns.barplot(x=[w[1] for w in common_words], y=[w[0] for w in common_words])\n",
    "plt.title(\"Top 30 Most Common Words\")\n",
    "plt.xlabel(\"Frequency\")\n",
    "plt.ylabel(\"Word\")\n",
    "plt.tight_layout()\n",
    "plt.show()"
   ]
  },
  {
   "cell_type": "markdown",
   "metadata": {},
   "source": [
    "## ☁️ Word Cloud"
   ]
  },
  {
   "cell_type": "code",
   "execution_count": null,
   "metadata": {},
   "outputs": [],
   "source": [
    "wordcloud = WordCloud(width=800, height=400, background_color=\"white\").generate(text)\n",
    "plt.figure(figsize=(10, 5))\n",
    "plt.imshow(wordcloud, interpolation=\"bilinear\")\n",
    "plt.axis(\"off\")\n",
    "plt.title(\"Word Cloud of Housing Articles\")\n",
    "plt.show()"
   ]
  },
  {
   "cell_type": "markdown",
   "metadata": {},
   "source": [
    "## 😐 Sentiment Analysis (Polarity)"
   ]
  },
  {
   "cell_type": "code",
   "execution_count": null,
   "metadata": {},
   "outputs": [],
   "source": [
    "# Sentiment polarity per article\n",
    "df[\"sentiment\"] = df[\"cleaned_content\"].apply(\n",
    "    lambda x: TextBlob(str(x)).sentiment.polarity\n",
    ")\n",
    "\n",
    "# Plot sentiment\n",
    "plt.figure(figsize=(10, 4))\n",
    "sns.histplot(df[\"sentiment\"], bins=20, kde=True, color=\"skyblue\")\n",
    "plt.title(\"Distribution of Sentiment in Articles\")\n",
    "plt.xlabel(\"Polarity (-1 negative to +1 positive)\")\n",
    "plt.ylabel(\"Article Count\")\n",
    "plt.grid(True)\n",
    "plt.tight_layout()\n",
    "plt.show()"
   ]
  }
 ],
 "metadata": {
  "kernelspec": {
   "display_name": "Python 3",
   "language": "python",
   "name": "python3"
  },
  "language_info": {
   "name": "python",
   "version": "3.12"
  }
 },
 "nbformat": 4,
 "nbformat_minor": 2
}