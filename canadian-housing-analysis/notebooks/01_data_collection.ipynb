from src.scraping import collect_betterdwelling_articles

df = collect_betterdwelling_articles(max_links=10)
df.head()

df.to_csv("../data/raw/betterdwelling_articles.csv", index=False)
