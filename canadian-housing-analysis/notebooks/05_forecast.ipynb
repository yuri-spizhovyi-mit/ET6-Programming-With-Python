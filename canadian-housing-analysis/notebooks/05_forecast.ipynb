{
 "cells": [
  {
   "cell_type": "markdown",
   "metadata": {},
   "source": [
    "# 🔮 Step 5: Time-Series Forecasting with Prophet\n",
    "Use Facebook Prophet to model and forecast housing price trends."
   ]
  },
  {
   "cell_type": "code",
   "execution_count": null,
   "metadata": {},
   "outputs": [],
   "source": [
    "import pandas as pd\n",
    "from prophet import Prophet\n",
    "import matplotlib.pyplot as plt\n",
    "from datetime import datetime, timedelta\n",
    "import numpy as np\n",
    "\n",
    "# Load normalized prices (no timestamps yet)\n",
    "df = pd.read_csv(\"../data/processed/normalized_prices.csv\")"
   ]
  },
  {
   "cell_type": "markdown",
   "metadata": {},
   "source": [
    "## 🕒 Simulate Monthly Timestamps (if not available)"
   ]
  },
  {
   "cell_type": "code",
   "execution_count": null,
   "metadata": {},
   "outputs": [],
   "source": [
    "# Simulate monthly timestamps evenly spaced in past 12 months\n",
    "num_points = len(df)\n",
    "start_date = datetime.today() - timedelta(days=30 * num_points)\n",
    "df[\"ds\"] = [start_date + timedelta(days=30 * i) for i in range(num_points)]\n",
    "df[\"y\"] = df[\"normalized\"]\n",
    "\n",
    "df[[\"ds\", \"y\"]].tail()"
   ]
  },
  {
   "cell_type": "markdown",
   "metadata": {},
   "source": [
    "## 📈 Fit Prophet Model"
   ]
  },
  {
   "cell_type": "code",
   "execution_count": null,
   "metadata": {},
   "outputs": [],
   "source": [
    "model = Prophet()\n",
    "model.fit(df[[\"ds\", \"y\"]])"
   ]
  },
  {
   "cell_type": "markdown",
   "metadata": {},
   "source": [
    "## 🔮 Forecast Future Prices"
   ]
  },
  {
   "cell_type": "code",
   "execution_count": null,
   "metadata": {},
   "outputs": [],
   "source": [
    "# Forecast next 12 months\n",
    "future = model.make_future_dataframe(periods=365, freq=\"D\")\n",
    "forecast = model.predict(future)\n",
    "\n",
    "# Plot forecast\n",
    "model.plot(forecast)\n",
    "plt.title(\"Housing Price Forecast\")\n",
    "plt.show()"
   ]
  },
  {
   "cell_type": "code",
   "execution_count": null,
   "metadata": {},
   "outputs": [],
   "source": [
    "# Components (trends, seasonality)\n",
    "model.plot_components(forecast)\n",
    "plt.show()"
   ]
  }
 ],
 "metadata": {
  "kernelspec": {
   "display_name": "Python 3",
   "language": "python",
   "name": "python3"
  },
  "language_info": {
   "name": "python",
   "version": "3.12"
  }
 },
 "nbformat": 4,
 "nbformat_minor": 2
}