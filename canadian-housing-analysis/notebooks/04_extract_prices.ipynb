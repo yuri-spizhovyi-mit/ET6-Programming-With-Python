{
 "cells": [
  {
   "cell_type": "markdown",
   "metadata": {},
   "source": [
    "# 💰 Step 4: Extract Housing Price Mentions\n",
    "Use regular expressions to identify price-related data like:\n",
    "- Dollar amounts (e.g., $850,000, CAD 1.2M)\n",
    "- Percent changes (e.g., -5%, +12%)"
   ]
  },
  {
   "cell_type": "code",
   "execution_count": null,
   "metadata": {},
   "outputs": [],
   "source": [
    "import pandas as pd\n",
    "import re\n",
    "\n",
    "# Load cleaned data\n",
    "df = pd.read_csv(\"../data/processed/cleaned_articles.csv\")\n",
    "\n",
    "# Combine text from all articles (if needed)\n",
    "text = \" \".join(df[\"cleaned_content\"].dropna().tolist())"
   ]
  },
  {
   "cell_type": "markdown",
   "metadata": {},
   "source": [
    "## 🧠 Define Regex Patterns"
   ]
  },
  {
   "cell_type": "code",
   "execution_count": null,
   "metadata": {},
   "outputs": [],
   "source": [
    "# Price patterns like $850,000 or CAD 1.2M\n",
    "price_pattern = r\"(\\$|CAD\\s?)?\\d{1,3}(?:,\\d{3})*(?:\\.\\d+)?\\s?[MK]?\""
   ]
  },
  {
   "cell_type": "code",
   "execution_count": null,
   "metadata": {},
   "outputs": [],
   "source": [
    "# Percentage changes like -5%, +12%\n",
    "percent_pattern = r\"[+-]?\\d{1,3}(?:\\.\\d+)?%\""
   ]
  },
  {
   "cell_type": "markdown",
   "metadata": {},
   "source": [
    "## 📥 Extract Price Mentions from Text"
   ]
  },
  {
   "cell_type": "code",
   "execution_count": null,
   "metadata": {},
   "outputs": [],
   "source": [
    "prices = re.findall(price_pattern, text)\n",
    "percents = re.findall(percent_pattern, text)\n",
    "\n",
    "print(f\"Found {len(prices)} price mentions and {len(percents)} percent changes.\")\n",
    "print(\"Sample prices:\", prices[:10])\n",
    "print(\"Sample percents:\", percents[:10])"
   ]
  },
  {
   "cell_type": "markdown",
   "metadata": {},
   "source": [
    "## 📊 Optional: Save Extracted Data"
   ]
  },
  {
   "cell_type": "code",
   "execution_count": null,
   "metadata": {},
   "outputs": [],
   "source": [
    "# Save to file if needed\n",
    "pd.DataFrame({\"price_mentions\": prices}).to_csv(\n",
    "    \"../data/processed/price_mentions.csv\", index=False\n",
    ")\n",
    "pd.DataFrame({\"percent_changes\": percents}).to_csv(\n",
    "    \"../data/processed/percent_changes.csv\", index=False\n",
    ")"
   ]
  }
 ],
 "metadata": {
  "kernelspec": {
   "display_name": "Python 3",
   "language": "python",
   "name": "python3"
  },
  "language_info": {
   "name": "python",
   "version": "3.12"
  }
 },
 "nbformat": 4,
 "nbformat_minor": 2
}